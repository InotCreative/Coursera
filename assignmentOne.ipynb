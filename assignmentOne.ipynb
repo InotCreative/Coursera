{
 "cells": [
  {
   "cell_type": "raw",
   "id": "4b8d46f3-c2a7-4216-a8f0-5a862d8c02a5",
   "metadata": {},
   "source": [
    "# Final Project: Data Science Overview"
   ]
  },
  {
   "cell_type": "raw",
   "id": "9e5abf07-e3b1-4602-9ca7-95608a19e44a",
   "metadata": {},
   "source": [
    "## Introduction\n",
    "This notebook provides an overview of data science, including languages, libraries, tools, and some basic arithmetic operations."
   ]
  },
  {
   "cell_type": "raw",
   "id": "0e38b625-d607-4c52-b20f-84565d20dab4",
   "metadata": {},
   "source": [
    "## Data Science Languages\n",
    "- Python\n",
    "- R\n",
    "- SQL\n",
    "- Julia\n",
    "- Scala"
   ]
  },
  {
   "cell_type": "raw",
   "id": "2e7b788c-6cb5-414c-b7c1-993eefd8cd1f",
   "metadata": {},
   "source": [
    "## Data Science Libraries\n",
    "- Pandas\n",
    "- NumPy\n",
    "- Matplotlib\n",
    "- Scikit-learn\n",
    "- TensorFlow\n"
   ]
  },
  {
   "cell_type": "raw",
   "id": "9aee7536-d39c-4465-9742-d1296a10f564",
   "metadata": {},
   "source": [
    "## Data Science Tools\n",
    "\n",
    "| Tool          | Purpose                              |\n",
    "|---------------|--------------------------------------|\n",
    "| Jupyter       | Interactive coding and visualization |\n",
    "| GitHub        | Version control and collaboration    |\n",
    "| Anaconda      | Package management and deployment    |\n",
    "| Tableau       | Data visualization                   |\n",
    "| Excel         | Data analysis and visualization      |\n"
   ]
  },
  {
   "cell_type": "raw",
   "id": "182e9b71-f58b-4dde-91ee-89d8215e1096",
   "metadata": {},
   "source": [
    "## Arithmetic Expression Examples\n",
    "Below are examples of basic arithmetic operations such as multiplication and addition.\n"
   ]
  },
  {
   "cell_type": "code",
   "execution_count": null,
   "id": "c231166b-0f2c-4101-83d7-d7ac38c49a10",
   "metadata": {},
   "outputs": [],
   "source": [
    "# Example of multiplication and addition\n",
    "a = 5\n",
    "b = 10\n",
    "\n",
    "multiplicationResult = a * b\n",
    "additionResult = a + b\n",
    "multiplicationRresult, addition_result\n"
   ]
  },
  {
   "cell_type": "code",
   "execution_count": null,
   "id": "c0587296-ffe0-49d8-a8b0-5f5c88cb19d1",
   "metadata": {},
   "outputs": [],
   "source": [
    "# Convert minutes to hours\n",
    "def convertMinutesToHours(minutes):\n",
    "    return minutes / 60\n",
    "\n",
    "minutes = 120\n",
    "hours = convertMinutesToHours(minutes)\n",
    "hours\n"
   ]
  },
  {
   "cell_type": "raw",
   "id": "73b1c8e8-2f7c-4471-be4a-6752ab794813",
   "metadata": {},
   "source": [
    "## Objectives\n",
    "- Understand data science languages and libraries\n",
    "- Learn about data science tools\n",
    "- Perform basic arithmetic operations using code\n"
   ]
  },
  {
   "cell_type": "raw",
   "id": "98042d39-42f5-4c8f-b3d2-eb010f86c61b",
   "metadata": {},
   "source": [
    "## Author\n",
    "Abinash Bastola"
   ]
  }
 ],
 "metadata": {
  "kernelspec": {
   "display_name": "Python 3 (ipykernel)",
   "language": "python",
   "name": "python3"
  },
  "language_info": {
   "codemirror_mode": {
    "name": "ipython",
    "version": 3
   },
   "file_extension": ".py",
   "mimetype": "text/x-python",
   "name": "python",
   "nbconvert_exporter": "python",
   "pygments_lexer": "ipython3",
   "version": "3.12.5"
  }
 },
 "nbformat": 4,
 "nbformat_minor": 5
}
